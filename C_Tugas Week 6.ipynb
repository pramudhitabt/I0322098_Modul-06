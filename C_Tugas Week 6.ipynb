{
 "cells": [
  {
   "attachments": {},
   "cell_type": "markdown",
   "metadata": {},
   "source": [
    "1. Tulis program dengan fungsi untuk menentukan angka yang paling kecil dari tiga angka yang diberikan!\n",
    "     ###### Note: Angka ditentukan sendiri oleh praktikan"
   ]
  },
  {
   "cell_type": "code",
   "execution_count": 15,
   "metadata": {},
   "outputs": [
    {
     "name": "stdout",
     "output_type": "stream",
     "text": [
      "Angka terkecil dari 3 angka di atas adalah 6\n"
     ]
    }
   ],
   "source": [
    "# Kerjakan Nomor 1 di bawah ini\n",
    "\n",
    "x = 6\n",
    "y = 12\n",
    "z = 9\n",
    "\n",
    "def angka_terkecil(x, y, z):\n",
    "    if x <= y and x <= z:\n",
    "        return x\n",
    "    elif y <= x and y <= z:\n",
    "        return y\n",
    "    else:\n",
    "        return z\n",
    "    \n",
    "kecil = angka_terkecil(x, y, z)\n",
    "print(f\"Angka terkecil dari 3 angka di atas adalah {kecil}\")"
   ]
  },
  {
   "attachments": {},
   "cell_type": "markdown",
   "metadata": {},
   "source": [
    "2. Tulis fungsi Python yang mengambil list awal dan menampilkan list baru dengan angka unik (tidak ada angka yang sama) dari list yang pertama."
   ]
  },
  {
   "cell_type": "code",
   "execution_count": null,
   "metadata": {},
   "outputs": [],
   "source": [
    "list_awal = [20,20,20,20,20,21,21,22,25,26,26,27,29,29,29,30]"
   ]
  },
  {
   "cell_type": "code",
   "execution_count": 3,
   "metadata": {},
   "outputs": [
    {
     "name": "stdout",
     "output_type": "stream",
     "text": [
      "[20, 21, 22, 25, 26, 27, 29, 30]\n"
     ]
    }
   ],
   "source": [
    "# Kerjakan Nomor 2 di bawah ini\n",
    "\n",
    "list_awal = [20,20,20,20,20,21,21,22,25,26,26,27,29,29,29,30]\n",
    "\n",
    "def list_baru(list_awal):\n",
    "    list_unik = list(set(list_awal))\n",
    "    return list_unik\n",
    "\n",
    "list_unik = list_baru(list_awal)\n",
    "print(list_unik)"
   ]
  },
  {
   "attachments": {},
   "cell_type": "markdown",
   "metadata": {},
   "source": [
    "3. Cari dan tampilkan bilangan genap yang ada pada list dibawah ini menggunakan fungsi built-in (wajib memakai fungsi lambda) dan tampilkan dalam format menurun (menggunakan perulangan)! "
   ]
  },
  {
   "cell_type": "code",
   "execution_count": null,
   "metadata": {},
   "outputs": [],
   "source": [
    "list_angka = [3,7,4,1,13,6,9,8,15,18,21]"
   ]
  },
  {
   "cell_type": "code",
   "execution_count": 12,
   "metadata": {},
   "outputs": [
    {
     "name": "stdout",
     "output_type": "stream",
     "text": [
      "18 8 6 4 "
     ]
    }
   ],
   "source": [
    "#Kerjakan nomor 3 di kolom ini\n",
    "\n",
    "list_angka = [3,7,4,1,13,6,9,8,15,18,21]\n",
    "\n",
    "def bilangan_genap(list_angka):\n",
    "    genap = filter(lambda x : x % 2 == 0, list_angka)\n",
    "    urut = sorted(genap, reverse = True)\n",
    "    for bilangan in urut:\n",
    "        print(bilangan, end = \" \")\n",
    "\n",
    "bilangan_genap(list_angka)"
   ]
  }
 ],
 "metadata": {
  "kernelspec": {
   "display_name": "Python 3",
   "language": "python",
   "name": "python3"
  },
  "language_info": {
   "codemirror_mode": {
    "name": "ipython",
    "version": 3
   },
   "file_extension": ".py",
   "mimetype": "text/x-python",
   "name": "python",
   "nbconvert_exporter": "python",
   "pygments_lexer": "ipython3",
   "version": "3.10.7"
  },
  "orig_nbformat": 4,
  "vscode": {
   "interpreter": {
    "hash": "5addf786bcd861d1ce5006f23111f8cbb206731e5b61b0a5632ba9e0252558a8"
   }
  }
 },
 "nbformat": 4,
 "nbformat_minor": 2
}
